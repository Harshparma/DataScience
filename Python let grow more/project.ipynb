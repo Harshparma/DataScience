{
 "cells": [
  {
   "cell_type": "code",
   "execution_count": 1,
   "metadata": {},
   "outputs": [],
   "source": [
    "import pandas_datareader as pdr"
   ]
  },
  {
   "cell_type": "code",
   "execution_count": 2,
   "metadata": {},
   "outputs": [],
   "source": [
    "import csv\n"
   ]
  },
  {
   "cell_type": "code",
   "execution_count": 3,
   "metadata": {},
   "outputs": [],
   "source": [
    "import pandas as pd"
   ]
  },
  {
   "cell_type": "code",
   "execution_count": 4,
   "metadata": {},
   "outputs": [],
   "source": [
    "df=pd.read_csv('tataglbl.csv')"
   ]
  },
  {
   "cell_type": "code",
   "execution_count": 5,
   "metadata": {},
   "outputs": [
    {
     "data": {
      "text/html": [
       "<div>\n",
       "<style scoped>\n",
       "    .dataframe tbody tr th:only-of-type {\n",
       "        vertical-align: middle;\n",
       "    }\n",
       "\n",
       "    .dataframe tbody tr th {\n",
       "        vertical-align: top;\n",
       "    }\n",
       "\n",
       "    .dataframe thead th {\n",
       "        text-align: right;\n",
       "    }\n",
       "</style>\n",
       "<table border=\"1\" class=\"dataframe\">\n",
       "  <thead>\n",
       "    <tr style=\"text-align: right;\">\n",
       "      <th></th>\n",
       "      <th>Date</th>\n",
       "      <th>Open</th>\n",
       "      <th>High</th>\n",
       "      <th>Low</th>\n",
       "      <th>Last</th>\n",
       "      <th>Close</th>\n",
       "      <th>Total Trade Quantity</th>\n",
       "      <th>Turnover (Lacs)</th>\n",
       "    </tr>\n",
       "  </thead>\n",
       "  <tbody>\n",
       "    <tr>\n",
       "      <th>0</th>\n",
       "      <td>2018-09-28</td>\n",
       "      <td>234.05</td>\n",
       "      <td>235.95</td>\n",
       "      <td>230.20</td>\n",
       "      <td>233.50</td>\n",
       "      <td>233.75</td>\n",
       "      <td>3069914</td>\n",
       "      <td>7162.35</td>\n",
       "    </tr>\n",
       "    <tr>\n",
       "      <th>1</th>\n",
       "      <td>2018-09-27</td>\n",
       "      <td>234.55</td>\n",
       "      <td>236.80</td>\n",
       "      <td>231.10</td>\n",
       "      <td>233.80</td>\n",
       "      <td>233.25</td>\n",
       "      <td>5082859</td>\n",
       "      <td>11859.95</td>\n",
       "    </tr>\n",
       "    <tr>\n",
       "      <th>2</th>\n",
       "      <td>2018-09-26</td>\n",
       "      <td>240.00</td>\n",
       "      <td>240.00</td>\n",
       "      <td>232.50</td>\n",
       "      <td>235.00</td>\n",
       "      <td>234.25</td>\n",
       "      <td>2240909</td>\n",
       "      <td>5248.60</td>\n",
       "    </tr>\n",
       "    <tr>\n",
       "      <th>3</th>\n",
       "      <td>2018-09-25</td>\n",
       "      <td>233.30</td>\n",
       "      <td>236.75</td>\n",
       "      <td>232.00</td>\n",
       "      <td>236.25</td>\n",
       "      <td>236.10</td>\n",
       "      <td>2349368</td>\n",
       "      <td>5503.90</td>\n",
       "    </tr>\n",
       "    <tr>\n",
       "      <th>4</th>\n",
       "      <td>2018-09-24</td>\n",
       "      <td>233.55</td>\n",
       "      <td>239.20</td>\n",
       "      <td>230.75</td>\n",
       "      <td>234.00</td>\n",
       "      <td>233.30</td>\n",
       "      <td>3423509</td>\n",
       "      <td>7999.55</td>\n",
       "    </tr>\n",
       "  </tbody>\n",
       "</table>\n",
       "</div>"
      ],
      "text/plain": [
       "         Date    Open    High     Low    Last   Close  Total Trade Quantity  \\\n",
       "0  2018-09-28  234.05  235.95  230.20  233.50  233.75               3069914   \n",
       "1  2018-09-27  234.55  236.80  231.10  233.80  233.25               5082859   \n",
       "2  2018-09-26  240.00  240.00  232.50  235.00  234.25               2240909   \n",
       "3  2018-09-25  233.30  236.75  232.00  236.25  236.10               2349368   \n",
       "4  2018-09-24  233.55  239.20  230.75  234.00  233.30               3423509   \n",
       "\n",
       "   Turnover (Lacs)  \n",
       "0          7162.35  \n",
       "1         11859.95  \n",
       "2          5248.60  \n",
       "3          5503.90  \n",
       "4          7999.55  "
      ]
     },
     "execution_count": 5,
     "metadata": {},
     "output_type": "execute_result"
    }
   ],
   "source": [
    "df.head()"
   ]
  },
  {
   "cell_type": "code",
   "execution_count": 6,
   "metadata": {},
   "outputs": [
    {
     "data": {
      "text/html": [
       "<div>\n",
       "<style scoped>\n",
       "    .dataframe tbody tr th:only-of-type {\n",
       "        vertical-align: middle;\n",
       "    }\n",
       "\n",
       "    .dataframe tbody tr th {\n",
       "        vertical-align: top;\n",
       "    }\n",
       "\n",
       "    .dataframe thead th {\n",
       "        text-align: right;\n",
       "    }\n",
       "</style>\n",
       "<table border=\"1\" class=\"dataframe\">\n",
       "  <thead>\n",
       "    <tr style=\"text-align: right;\">\n",
       "      <th></th>\n",
       "      <th>Date</th>\n",
       "      <th>Open</th>\n",
       "      <th>High</th>\n",
       "      <th>Low</th>\n",
       "      <th>Last</th>\n",
       "      <th>Close</th>\n",
       "      <th>Total Trade Quantity</th>\n",
       "      <th>Turnover (Lacs)</th>\n",
       "    </tr>\n",
       "  </thead>\n",
       "  <tbody>\n",
       "    <tr>\n",
       "      <th>2030</th>\n",
       "      <td>2010-07-27</td>\n",
       "      <td>117.6</td>\n",
       "      <td>119.50</td>\n",
       "      <td>112.00</td>\n",
       "      <td>118.80</td>\n",
       "      <td>118.65</td>\n",
       "      <td>586100</td>\n",
       "      <td>694.98</td>\n",
       "    </tr>\n",
       "    <tr>\n",
       "      <th>2031</th>\n",
       "      <td>2010-07-26</td>\n",
       "      <td>120.1</td>\n",
       "      <td>121.00</td>\n",
       "      <td>117.10</td>\n",
       "      <td>117.10</td>\n",
       "      <td>117.60</td>\n",
       "      <td>658440</td>\n",
       "      <td>780.01</td>\n",
       "    </tr>\n",
       "    <tr>\n",
       "      <th>2032</th>\n",
       "      <td>2010-07-23</td>\n",
       "      <td>121.8</td>\n",
       "      <td>121.95</td>\n",
       "      <td>120.25</td>\n",
       "      <td>120.35</td>\n",
       "      <td>120.65</td>\n",
       "      <td>281312</td>\n",
       "      <td>340.31</td>\n",
       "    </tr>\n",
       "    <tr>\n",
       "      <th>2033</th>\n",
       "      <td>2010-07-22</td>\n",
       "      <td>120.3</td>\n",
       "      <td>122.00</td>\n",
       "      <td>120.25</td>\n",
       "      <td>120.75</td>\n",
       "      <td>120.90</td>\n",
       "      <td>293312</td>\n",
       "      <td>355.17</td>\n",
       "    </tr>\n",
       "    <tr>\n",
       "      <th>2034</th>\n",
       "      <td>2010-07-21</td>\n",
       "      <td>122.1</td>\n",
       "      <td>123.00</td>\n",
       "      <td>121.05</td>\n",
       "      <td>121.10</td>\n",
       "      <td>121.55</td>\n",
       "      <td>658666</td>\n",
       "      <td>803.56</td>\n",
       "    </tr>\n",
       "  </tbody>\n",
       "</table>\n",
       "</div>"
      ],
      "text/plain": [
       "            Date   Open    High     Low    Last   Close  Total Trade Quantity  \\\n",
       "2030  2010-07-27  117.6  119.50  112.00  118.80  118.65                586100   \n",
       "2031  2010-07-26  120.1  121.00  117.10  117.10  117.60                658440   \n",
       "2032  2010-07-23  121.8  121.95  120.25  120.35  120.65                281312   \n",
       "2033  2010-07-22  120.3  122.00  120.25  120.75  120.90                293312   \n",
       "2034  2010-07-21  122.1  123.00  121.05  121.10  121.55                658666   \n",
       "\n",
       "      Turnover (Lacs)  \n",
       "2030           694.98  \n",
       "2031           780.01  \n",
       "2032           340.31  \n",
       "2033           355.17  \n",
       "2034           803.56  "
      ]
     },
     "execution_count": 6,
     "metadata": {},
     "output_type": "execute_result"
    }
   ],
   "source": [
    "df.tail()"
   ]
  },
  {
   "cell_type": "code",
   "execution_count": 7,
   "metadata": {},
   "outputs": [],
   "source": [
    "df1=df.reset_index()['Last']"
   ]
  },
  {
   "cell_type": "code",
   "execution_count": 8,
   "metadata": {},
   "outputs": [
    {
     "data": {
      "text/plain": [
       "0       233.50\n",
       "1       233.80\n",
       "2       235.00\n",
       "3       236.25\n",
       "4       234.00\n",
       "         ...  \n",
       "2030    118.80\n",
       "2031    117.10\n",
       "2032    120.35\n",
       "2033    120.75\n",
       "2034    121.10\n",
       "Name: Last, Length: 2035, dtype: float64"
      ]
     },
     "execution_count": 8,
     "metadata": {},
     "output_type": "execute_result"
    }
   ],
   "source": [
    "df1"
   ]
  },
  {
   "cell_type": "code",
   "execution_count": 10,
   "metadata": {},
   "outputs": [
    {
     "data": {
      "text/plain": [
       "(2035,)"
      ]
     },
     "execution_count": 10,
     "metadata": {},
     "output_type": "execute_result"
    }
   ],
   "source": [
    "df1.shape"
   ]
  },
  {
   "cell_type": "code",
   "execution_count": 11,
   "metadata": {},
   "outputs": [
    {
     "data": {
      "text/plain": [
       "[<matplotlib.lines.Line2D at 0x1ab8a0251e0>]"
      ]
     },
     "execution_count": 11,
     "metadata": {},
     "output_type": "execute_result"
    },
    {
     "data": {
      "image/png": "[encoded data removed]",
      "text/plain": [
       "<Figure size 432x288 with 1 Axes>"
      ]
     },
     "metadata": {
      "needs_background": "light"
     },
     "output_type": "display_data"
    }
   ],
   "source": [
    "import matplotlib.pyplot as plt\n",
    "plt.plot(df1)"
   ]
  },
  {
   "cell_type": "code",
   "execution_count": 12,
   "metadata": {},
   "outputs": [],
   "source": [
    "import numpy as np"
   ]
  },
  {
   "cell_type": "code",
   "execution_count": 13,
   "metadata": {},
   "outputs": [],
   "source": [
    "from sklearn.preprocessing import MinMaxScaler\n",
    "scaler=MinMaxScaler(feature_range=(0,1))\n",
    "df1=scaler.fit_transform(np.array(df1).reshape(-1,1))"
   ]
  },
  {
   "cell_type": "code",
   "execution_count": 14,
   "metadata": {},
   "outputs": [
    {
     "name": "stdout",
     "output_type": "stream",
     "text": [
      "[[0.62257604]\n",
      " [0.62380078]\n",
      " [0.62869973]\n",
      " ...\n",
      " [0.16064503]\n",
      " [0.16227802]\n",
      " [0.16370688]]\n"
     ]
    }
   ],
   "source": [
    "print(df1)"
   ]
  },
  {
   "cell_type": "code",
   "execution_count": 15,
   "metadata": {},
   "outputs": [],
   "source": [
    "training_size=int(len(df1)*0.65)\n",
    "test_size=len(df1)-training_size\n",
    "train_data,test_data=df1[0:training_size,:],df1[training_size:len(df1),:1]"
   ]
  },
  {
   "cell_type": "code",
   "execution_count": 16,
   "metadata": {},
   "outputs": [
    {
     "data": {
      "text/plain": [
       "(1322, 713)"
      ]
     },
     "execution_count": 16,
     "metadata": {},
     "output_type": "execute_result"
    }
   ],
   "source": [
    "training_size,test_size"
   ]
  },
  {
   "cell_type": "code",
   "execution_count": 17,
   "metadata": {},
   "outputs": [
    {
     "data": {
      "text/plain": [
       "array([[0.62257604],\n",
       "       [0.62380078],\n",
       "       [0.62869973],\n",
       "       ...,\n",
       "       [0.25290876],\n",
       "       [0.26005307],\n",
       "       [0.2567871 ]])"
      ]
     },
     "execution_count": 17,
     "metadata": {},
     "output_type": "execute_result"
    }
   ],
   "source": [
    "train_data"
   ]
  },
  {
   "cell_type": "code",
   "execution_count": 18,
   "metadata": {},
   "outputs": [],
   "source": [
    "import numpy\n",
    "# convert an array of values into a dataset matrix\n",
    "def create_dataset(dataset, time_step=1):\n",
    "\tdataX, dataY = [], []\n",
    "\tfor i in range(len(dataset)-time_step-1):\n",
    "\t\ta = dataset[i:(i+time_step), 0]   ###i=0, 0,1,2,3-----99   100 \n",
    "\t\tdataX.append(a)\n",
    "\t\tdataY.append(dataset[i + time_step, 0])\n",
    "\treturn numpy.array(dataX), numpy.array(dataY)"
   ]
  },
  {
   "cell_type": "code",
   "execution_count": 19,
   "metadata": {},
   "outputs": [],
   "source": [
    "# reshape into X=t,t+1,t+2,t+3 and Y=t+4\n",
    "time_step = 100\n",
    "X_train, y_train = create_dataset(train_data, time_step)\n",
    "X_test, ytest = create_dataset(test_data, time_step)"
   ]
  },
  {
   "cell_type": "code",
   "execution_count": 20,
   "metadata": {},
   "outputs": [
    {
     "name": "stdout",
     "output_type": "stream",
     "text": [
      "(1221, 100)\n",
      "(1221,)\n"
     ]
    },
    {
     "data": {
      "text/plain": [
       "(None, None)"
      ]
     },
     "execution_count": 20,
     "metadata": {},
     "output_type": "execute_result"
    }
   ],
   "source": [
    "print(X_train.shape), print(y_train.shape)"
   ]
  },
  {
   "cell_type": "code",
   "execution_count": 21,
   "metadata": {},
   "outputs": [
    {
     "name": "stdout",
     "output_type": "stream",
     "text": [
      "(612, 100)\n",
      "(612,)\n"
     ]
    },
    {
     "data": {
      "text/plain": [
       "(None, None)"
      ]
     },
     "execution_count": 21,
     "metadata": {},
     "output_type": "execute_result"
    }
   ],
   "source": [
    "print(X_test.shape), print(ytest.shape)"
   ]
  },
  {
   "cell_type": "code",
   "execution_count": 22,
   "metadata": {},
   "outputs": [],
   "source": [
    "# reshape input to be [samples, time steps, features] which is required for LSTM\n",
    "X_train =X_train.reshape(X_train.shape[0],X_train.shape[1] , 1)\n",
    "X_test = X_test.reshape(X_test.shape[0],X_test.shape[1] , 1)"
   ]
  },
  {
   "cell_type": "code",
   "execution_count": 23,
   "metadata": {},
   "outputs": [],
   "source": [
    "import tensorflow as tf\n",
    "from tensorflow.python.keras.layers import Input, Dense,LSTM\n",
    "from tensorflow.python.keras.models import Sequential"
   ]
  },
  {
   "cell_type": "code",
   "execution_count": 24,
   "metadata": {},
   "outputs": [],
   "source": [
    "model=Sequential()\n",
    "model.add(LSTM(50,return_sequences=True,input_shape=(100,1)))\n",
    "model.add(LSTM(50,return_sequences=True))\n",
    "model.add(LSTM(50))\n",
    "model.add(Dense(1))\n",
    "model.compile(loss='mean_squared_error',optimizer='adam')"
   ]
  },
  {
   "cell_type": "code",
   "execution_count": 26,
   "metadata": {},
   "outputs": [
    {
     "name": "stdout",
     "output_type": "stream",
     "text": [
      "Model: \"sequential_1\"\n",
      "_________________________________________________________________\n",
      "Layer (type)                 Output Shape              Param #   \n",
      "=================================================================\n",
      "lstm_3 (LSTM)                (None, 100, 50)           10400     \n",
      "_________________________________________________________________\n",
      "lstm_4 (LSTM)                (None, 100, 50)           20200     \n",
      "_________________________________________________________________\n",
      "lstm_5 (LSTM)                (None, 50)                20200     \n",
      "_________________________________________________________________\n",
      "dense_1 (Dense)              (None, 1)                 51        \n",
      "=================================================================\n",
      "Total params: 50,851\n",
      "Trainable params: 50,851\n",
      "Non-trainable params: 0\n",
      "_________________________________________________________________\n"
     ]
    }
   ],
   "source": [
    "model.summary()"
   ]
  },
  {
   "cell_type": "code",
   "execution_count": 27,
   "metadata": {},
   "outputs": [
    {
     "name": "stdout",
     "output_type": "stream",
     "text": [
      "Model: \"sequential_1\"\n",
      "_________________________________________________________________\n",
      "Layer (type)                 Output Shape              Param #   \n",
      "=================================================================\n",
      "lstm_3 (LSTM)                (None, 100, 50)           10400     \n",
      "_________________________________________________________________\n",
      "lstm_4 (LSTM)                (None, 100, 50)           20200     \n",
      "_________________________________________________________________\n",
      "lstm_5 (LSTM)                (None, 50)                20200     \n",
      "_________________________________________________________________\n",
      "dense_1 (Dense)              (None, 1)                 51        \n",
      "=================================================================\n",
      "Total params: 50,851\n",
      "Trainable params: 50,851\n",
      "Non-trainable params: 0\n",
      "_________________________________________________________________\n"
     ]
    }
   ],
   "source": [
    "model.summary()"
   ]
  },
  {
   "cell_type": "code",
   "execution_count": 28,
   "metadata": {},
   "outputs": [
    {
     "name": "stdout",
     "output_type": "stream",
     "text": [
      "Epoch 1/100\n",
      "20/20 [==============================] - 22s 562ms/step - loss: 0.0332 - val_loss: 0.0035\n",
      "Epoch 2/100\n",
      "20/20 [==============================] - 10s 482ms/step - loss: 0.0038 - val_loss: 9.7817e-04\n",
      "Epoch 3/100\n",
      "20/20 [==============================] - 10s 481ms/step - loss: 0.0016 - val_loss: 0.0011\n",
      "Epoch 4/100\n",
      "20/20 [==============================] - 9s 451ms/step - loss: 0.0013 - val_loss: 0.0011\n",
      "Epoch 5/100\n",
      "20/20 [==============================] - 8s 419ms/step - loss: 0.0013 - val_loss: 9.0537e-04\n",
      "Epoch 6/100\n",
      "20/20 [==============================] - 8s 400ms/step - loss: 0.0012 - val_loss: 0.0011\n",
      "Epoch 7/100\n",
      "20/20 [==============================] - 9s 478ms/step - loss: 0.0013 - val_loss: 0.0010\n",
      "Epoch 8/100\n",
      "20/20 [==============================] - 8s 406ms/step - loss: 0.0012 - val_loss: 0.0012\n",
      "Epoch 9/100\n",
      "20/20 [==============================] - 11s 527ms/step - loss: 0.0012 - val_loss: 7.6223e-04\n",
      "Epoch 10/100\n",
      "20/20 [==============================] - 9s 431ms/step - loss: 0.0011 - val_loss: 8.4327e-04\n",
      "Epoch 11/100\n",
      "20/20 [==============================] - 11s 541ms/step - loss: 0.0010 - val_loss: 0.0011\n",
      "Epoch 12/100\n",
      "20/20 [==============================] - 9s 445ms/step - loss: 0.0011 - val_loss: 0.0010\n",
      "Epoch 13/100\n",
      "20/20 [==============================] - 9s 439ms/step - loss: 9.8517e-04 - val_loss: 0.0010\n",
      "Epoch 14/100\n",
      "20/20 [==============================] - 11s 532ms/step - loss: 0.0010 - val_loss: 6.9484e-04\n",
      "Epoch 15/100\n",
      "20/20 [==============================] - 10s 524ms/step - loss: 8.7804e-04 - val_loss: 7.5592e-04\n",
      "Epoch 16/100\n",
      "20/20 [==============================] - 10s 504ms/step - loss: 8.7027e-04 - val_loss: 0.0012\n",
      "Epoch 17/100\n",
      "20/20 [==============================] - 9s 461ms/step - loss: 9.5380e-04 - val_loss: 8.0309e-04\n",
      "Epoch 18/100\n",
      "20/20 [==============================] - 10s 503ms/step - loss: 9.0333e-04 - val_loss: 5.7599e-04\n",
      "Epoch 19/100\n",
      "20/20 [==============================] - 11s 550ms/step - loss: 8.5394e-04 - val_loss: 0.0011\n",
      "Epoch 20/100\n",
      "20/20 [==============================] - 10s 514ms/step - loss: 0.0011 - val_loss: 9.5004e-04\n",
      "Epoch 21/100\n",
      "20/20 [==============================] - 9s 468ms/step - loss: 8.5133e-04 - val_loss: 7.6468e-04\n",
      "Epoch 22/100\n",
      "20/20 [==============================] - 9s 447ms/step - loss: 7.6079e-04 - val_loss: 7.9809e-04\n",
      "Epoch 23/100\n",
      "20/20 [==============================] - 10s 526ms/step - loss: 8.5508e-04 - val_loss: 8.4984e-04\n",
      "Epoch 24/100\n",
      "20/20 [==============================] - 12s 611ms/step - loss: 7.9043e-04 - val_loss: 7.4291e-04\n",
      "Epoch 25/100\n",
      "20/20 [==============================] - 11s 530ms/step - loss: 7.2771e-04 - val_loss: 6.2922e-04\n",
      "Epoch 26/100\n",
      "20/20 [==============================] - 13s 647ms/step - loss: 7.1483e-04 - val_loss: 6.1890e-04\n",
      "Epoch 27/100\n",
      "20/20 [==============================] - 14s 714ms/step - loss: 6.7678e-04 - val_loss: 5.3034e-04\n",
      "Epoch 28/100\n",
      "20/20 [==============================] - 13s 637ms/step - loss: 7.3425e-04 - val_loss: 7.3378e-04\n",
      "Epoch 29/100\n",
      "20/20 [==============================] - 18s 891ms/step - loss: 7.3555e-04 - val_loss: 6.0508e-04\n",
      "Epoch 30/100\n",
      "20/20 [==============================] - 9s 469ms/step - loss: 6.7589e-04 - val_loss: 6.3738e-04\n",
      "Epoch 31/100\n",
      "20/20 [==============================] - 9s 469ms/step - loss: 6.3443e-04 - val_loss: 5.9582e-04\n",
      "Epoch 32/100\n",
      "20/20 [==============================] - 9s 451ms/step - loss: 6.6131e-04 - val_loss: 5.5896e-04\n",
      "Epoch 33/100\n",
      "20/20 [==============================] - 9s 449ms/step - loss: 6.9506e-04 - val_loss: 8.9901e-04\n",
      "Epoch 34/100\n",
      "20/20 [==============================] - 10s 526ms/step - loss: 6.4488e-04 - val_loss: 5.7019e-04\n",
      "Epoch 35/100\n",
      "20/20 [==============================] - 11s 570ms/step - loss: 6.7396e-04 - val_loss: 8.3398e-04\n",
      "Epoch 36/100\n",
      "20/20 [==============================] - 16s 809ms/step - loss: 7.0417e-04 - val_loss: 7.2106e-04\n",
      "Epoch 37/100\n",
      "20/20 [==============================] - 12s 615ms/step - loss: 6.0371e-04 - val_loss: 6.2306e-04\n",
      "Epoch 38/100\n",
      "20/20 [==============================] - 11s 533ms/step - loss: 5.8444e-04 - val_loss: 6.6713e-04\n",
      "Epoch 39/100\n",
      "20/20 [==============================] - 12s 597ms/step - loss: 5.9147e-04 - val_loss: 5.0927e-04\n",
      "Epoch 40/100\n",
      "20/20 [==============================] - 10s 495ms/step - loss: 5.8567e-04 - val_loss: 5.9117e-04\n",
      "Epoch 41/100\n",
      "20/20 [==============================] - 11s 572ms/step - loss: 5.8998e-04 - val_loss: 6.8834e-04\n",
      "Epoch 42/100\n",
      "20/20 [==============================] - 9s 437ms/step - loss: 6.3470e-04 - val_loss: 5.2410e-04\n",
      "Epoch 43/100\n",
      "20/20 [==============================] - 8s 424ms/step - loss: 5.8250e-04 - val_loss: 5.2546e-04\n",
      "Epoch 44/100\n",
      "20/20 [==============================] - 8s 401ms/step - loss: 5.7770e-04 - val_loss: 5.6766e-04\n",
      "Epoch 45/100\n",
      "20/20 [==============================] - 8s 424ms/step - loss: 5.5281e-04 - val_loss: 5.8940e-04\n",
      "Epoch 46/100\n",
      "20/20 [==============================] - 9s 454ms/step - loss: 6.0521e-04 - val_loss: 8.7905e-04\n",
      "Epoch 47/100\n",
      "20/20 [==============================] - 9s 430ms/step - loss: 5.6895e-04 - val_loss: 4.8374e-04\n",
      "Epoch 48/100\n",
      "20/20 [==============================] - 9s 478ms/step - loss: 6.8557e-04 - val_loss: 5.7749e-04\n",
      "Epoch 49/100\n",
      "20/20 [==============================] - 11s 553ms/step - loss: 5.5205e-04 - val_loss: 7.3567e-04\n",
      "Epoch 50/100\n",
      "20/20 [==============================] - 8s 420ms/step - loss: 5.2234e-04 - val_loss: 4.6204e-04\n",
      "Epoch 51/100\n",
      "20/20 [==============================] - 9s 427ms/step - loss: 5.1118e-04 - val_loss: 4.8873e-04\n",
      "Epoch 52/100\n",
      "20/20 [==============================] - 8s 420ms/step - loss: 4.9553e-04 - val_loss: 4.8072e-04\n",
      "Epoch 53/100\n",
      "20/20 [==============================] - 8s 382ms/step - loss: 4.8599e-04 - val_loss: 4.6996e-04\n",
      "Epoch 54/100\n",
      "20/20 [==============================] - 8s 396ms/step - loss: 4.9694e-04 - val_loss: 5.1205e-04\n",
      "Epoch 55/100\n",
      "20/20 [==============================] - 9s 440ms/step - loss: 4.6939e-04 - val_loss: 6.6486e-04\n",
      "Epoch 56/100\n",
      "20/20 [==============================] - 8s 411ms/step - loss: 6.8285e-04 - val_loss: 5.6498e-04\n",
      "Epoch 57/100\n",
      "20/20 [==============================] - 9s 438ms/step - loss: 4.7252e-04 - val_loss: 5.0558e-04\n",
      "Epoch 58/100\n",
      "20/20 [==============================] - 8s 388ms/step - loss: 4.5365e-04 - val_loss: 4.3245e-04\n",
      "Epoch 59/100\n",
      "20/20 [==============================] - 8s 405ms/step - loss: 6.2864e-04 - val_loss: 3.7286e-04\n",
      "Epoch 60/100\n",
      "20/20 [==============================] - 8s 411ms/step - loss: 5.2778e-04 - val_loss: 4.5504e-04\n",
      "Epoch 61/100\n",
      "20/20 [==============================] - 8s 411ms/step - loss: 4.9831e-04 - val_loss: 4.9503e-04\n",
      "Epoch 62/100\n",
      "20/20 [==============================] - 8s 411ms/step - loss: 4.4559e-04 - val_loss: 4.5103e-04\n",
      "Epoch 63/100\n",
      "20/20 [==============================] - 8s 405ms/step - loss: 4.3246e-04 - val_loss: 3.5011e-04\n",
      "Epoch 64/100\n",
      "20/20 [==============================] - 8s 410ms/step - loss: 4.7642e-04 - val_loss: 5.0148e-04\n",
      "Epoch 65/100\n",
      "20/20 [==============================] - 8s 403ms/step - loss: 4.1734e-04 - val_loss: 4.7286e-04\n",
      "Epoch 66/100\n",
      "20/20 [==============================] - 8s 404ms/step - loss: 5.7769e-04 - val_loss: 5.8087e-04\n",
      "Epoch 67/100\n",
      "20/20 [==============================] - 8s 400ms/step - loss: 4.3593e-04 - val_loss: 5.5834e-04\n",
      "Epoch 68/100\n",
      "20/20 [==============================] - 8s 407ms/step - loss: 5.3455e-04 - val_loss: 5.9521e-04\n",
      "Epoch 69/100\n",
      "20/20 [==============================] - 9s 427ms/step - loss: 4.4985e-04 - val_loss: 3.4911e-04\n",
      "Epoch 70/100\n",
      "20/20 [==============================] - 9s 430ms/step - loss: 3.9735e-04 - val_loss: 3.0822e-04\n",
      "Epoch 71/100\n",
      "20/20 [==============================] - 10s 488ms/step - loss: 4.3165e-04 - val_loss: 3.1463e-04\n",
      "Epoch 72/100\n",
      "20/20 [==============================] - 9s 427ms/step - loss: 4.1027e-04 - val_loss: 4.4732e-04\n",
      "Epoch 73/100\n",
      "20/20 [==============================] - 8s 397ms/step - loss: 3.9368e-04 - val_loss: 3.9105e-04\n",
      "Epoch 74/100\n",
      "20/20 [==============================] - 8s 389ms/step - loss: 3.7008e-04 - val_loss: 3.5239e-04\n",
      "Epoch 75/100\n",
      "20/20 [==============================] - 8s 393ms/step - loss: 3.3091e-04 - val_loss: 3.3688e-04\n",
      "Epoch 76/100\n",
      "20/20 [==============================] - 9s 448ms/step - loss: 3.5161e-04 - val_loss: 2.6070e-04\n",
      "Epoch 77/100\n",
      "20/20 [==============================] - 9s 422ms/step - loss: 4.6001e-04 - val_loss: 3.8890e-04\n",
      "Epoch 78/100\n",
      "20/20 [==============================] - 8s 428ms/step - loss: 3.3503e-04 - val_loss: 3.9894e-04\n",
      "Epoch 79/100\n",
      "20/20 [==============================] - 8s 411ms/step - loss: 3.2782e-04 - val_loss: 3.6276e-04\n",
      "Epoch 80/100\n",
      "20/20 [==============================] - 9s 450ms/step - loss: 3.4346e-04 - val_loss: 3.0304e-04\n",
      "Epoch 81/100\n",
      "20/20 [==============================] - 9s 454ms/step - loss: 3.0398e-04 - val_loss: 2.9496e-04\n",
      "Epoch 82/100\n",
      "20/20 [==============================] - 9s 463ms/step - loss: 3.1818e-04 - val_loss: 2.4854e-04\n",
      "Epoch 83/100\n",
      "20/20 [==============================] - 8s 425ms/step - loss: 2.8886e-04 - val_loss: 2.4325e-04\n",
      "Epoch 84/100\n",
      "20/20 [==============================] - 9s 444ms/step - loss: 2.8146e-04 - val_loss: 2.7073e-04\n",
      "Epoch 85/100\n",
      "20/20 [==============================] - 9s 424ms/step - loss: 2.6752e-04 - val_loss: 3.0407e-04\n",
      "Epoch 86/100\n",
      "20/20 [==============================] - 9s 467ms/step - loss: 2.7452e-04 - val_loss: 2.3409e-04\n",
      "Epoch 87/100\n",
      "20/20 [==============================] - 11s 530ms/step - loss: 3.6592e-04 - val_loss: 3.9687e-04\n",
      "Epoch 88/100\n",
      "20/20 [==============================] - 9s 445ms/step - loss: 3.6298e-04 - val_loss: 2.4949e-04\n",
      "Epoch 89/100\n",
      "20/20 [==============================] - 9s 452ms/step - loss: 4.1422e-04 - val_loss: 3.3557e-04\n",
      "Epoch 90/100\n",
      "20/20 [==============================] - 9s 467ms/step - loss: 2.7450e-04 - val_loss: 2.5112e-04\n",
      "Epoch 91/100\n",
      "20/20 [==============================] - 9s 442ms/step - loss: 2.7724e-04 - val_loss: 2.6654e-04\n",
      "Epoch 92/100\n",
      "20/20 [==============================] - 9s 452ms/step - loss: 2.5495e-04 - val_loss: 2.1307e-04\n",
      "Epoch 93/100\n",
      "20/20 [==============================] - 8s 396ms/step - loss: 2.4456e-04 - val_loss: 2.7659e-04\n",
      "Epoch 94/100\n",
      "20/20 [==============================] - 8s 396ms/step - loss: 2.4103e-04 - val_loss: 2.2500e-04\n",
      "Epoch 95/100\n",
      "20/20 [==============================] - 9s 433ms/step - loss: 2.3712e-04 - val_loss: 2.1750e-04\n",
      "Epoch 96/100\n",
      "20/20 [==============================] - 8s 414ms/step - loss: 2.3711e-04 - val_loss: 2.1652e-04\n",
      "Epoch 97/100\n",
      "20/20 [==============================] - 9s 437ms/step - loss: 2.6498e-04 - val_loss: 2.7780e-04\n",
      "Epoch 98/100\n",
      "20/20 [==============================] - 9s 472ms/step - loss: 2.6598e-04 - val_loss: 2.2008e-04\n",
      "Epoch 99/100\n",
      "20/20 [==============================] - 8s 406ms/step - loss: 2.4958e-04 - val_loss: 2.0678e-04\n",
      "Epoch 100/100\n",
      "20/20 [==============================] - 9s 455ms/step - loss: 2.2811e-04 - val_loss: 2.3429e-04\n"
     ]
    },
    {
     "data": {
      "text/plain": [
       "<tensorflow.python.keras.callbacks.History at 0x1aba2e7ff70>"
      ]
     },
     "execution_count": 28,
     "metadata": {},
     "output_type": "execute_result"
    }
   ],
   "source": [
    "model.fit(X_train,y_train,validation_data=(X_test,ytest),epochs=100,batch_size=64,verbose=1)"
   ]
  },
  {
   "cell_type": "code",
   "execution_count": 29,
   "metadata": {},
   "outputs": [],
   "source": [
    "import tensorflow as tf"
   ]
  },
  {
   "cell_type": "code",
   "execution_count": 30,
   "metadata": {},
   "outputs": [
    {
     "data": {
      "text/plain": [
       "'2.8.0-rc1'"
      ]
     },
     "execution_count": 30,
     "metadata": {},
     "output_type": "execute_result"
    }
   ],
   "source": [
    "tf.__version__"
   ]
  },
  {
   "cell_type": "code",
   "execution_count": 31,
   "metadata": {},
   "outputs": [],
   "source": [
    "### Lets Do the prediction and check performance metrics\n",
    "train_predict=model.predict(X_train)\n",
    "test_predict=model.predict(X_test)"
   ]
  },
  {
   "cell_type": "code",
   "execution_count": 32,
   "metadata": {},
   "outputs": [],
   "source": [
    "##Transformback to original form\n",
    "train_predict=scaler.inverse_transform(train_predict)\n",
    "test_predict=scaler.inverse_transform(test_predict)"
   ]
  },
  {
   "cell_type": "code",
   "execution_count": 33,
   "metadata": {},
   "outputs": [
    {
     "data": {
      "text/plain": [
       "166.85443878016105"
      ]
     },
     "execution_count": 33,
     "metadata": {},
     "output_type": "execute_result"
    }
   ],
   "source": [
    "### Calculate RMSE performance metrics\n",
    "import math\n",
    "from sklearn.metrics import mean_squared_error\n",
    "math.sqrt(mean_squared_error(y_train,train_predict))"
   ]
  },
  {
   "cell_type": "code",
   "execution_count": 34,
   "metadata": {},
   "outputs": [
    {
     "data": {
      "text/plain": [
       "116.58419112748739"
      ]
     },
     "execution_count": 34,
     "metadata": {},
     "output_type": "execute_result"
    }
   ],
   "source": [
    "### Test Data RMSE\n",
    "math.sqrt(mean_squared_error(ytest,test_predict))"
   ]
  },
  {
   "cell_type": "code",
   "execution_count": 35,
   "metadata": {},
   "outputs": [
    {
     "data": {
      "image/png": "[encoded data removed]",
      "text/plain": [
       "<Figure size 432x288 with 1 Axes>"
      ]
     },
     "metadata": {
      "needs_background": "light"
     },
     "output_type": "display_data"
    }
   ],
   "source": [
    "### Plotting \n",
    "# shift train predictions for plotting\n",
    "look_back=100\n",
    "trainPredictPlot = numpy.empty_like(df1)\n",
    "trainPredictPlot[:, :] = np.nan\n",
    "trainPredictPlot[look_back:len(train_predict)+look_back, :] = train_predict\n",
    "# shift test predictions for plotting\n",
    "testPredictPlot = numpy.empty_like(df1)\n",
    "testPredictPlot[:, :] = numpy.nan\n",
    "testPredictPlot[len(train_predict)+(look_back*2)+1:len(df1)-1, :] = test_predict\n",
    "# plot baseline and predictions\n",
    "plt.plot(scaler.inverse_transform(df1))\n",
    "plt.plot(trainPredictPlot)\n",
    "plt.plot(testPredictPlot)\n",
    "plt.show()"
   ]
  },
  {
   "cell_type": "code",
   "execution_count": 36,
   "metadata": {},
   "outputs": [
    {
     "data": {
      "text/plain": [
       "713"
      ]
     },
     "execution_count": 36,
     "metadata": {},
     "output_type": "execute_result"
    }
   ],
   "source": [
    "len(test_data)"
   ]
  },
  {
   "cell_type": "code",
   "execution_count": 37,
   "metadata": {},
   "outputs": [
    {
     "data": {
      "text/plain": [
       "(1, 100)"
      ]
     },
     "execution_count": 37,
     "metadata": {},
     "output_type": "execute_result"
    }
   ],
   "source": [
    "x_input=test_data[613:].reshape(1,-1)\n",
    "x_input.shape"
   ]
  },
  {
   "cell_type": "code",
   "execution_count": 38,
   "metadata": {},
   "outputs": [],
   "source": [
    "temp_input=list(x_input)\n",
    "temp_input=temp_input[0].tolist()\n"
   ]
  },
  {
   "cell_type": "code",
   "execution_count": 39,
   "metadata": {},
   "outputs": [
    {
     "data": {
      "text/plain": [
       "[0.12410696060420495,\n",
       " 0.13798734435599097,\n",
       " 0.14166156358440496,\n",
       " 0.13778322106552354,\n",
       " 0.1326801388038375,\n",
       " 0.14104919371300262,\n",
       " 0.13676260461318634,\n",
       " 0.1306389058991631,\n",
       " 0.13104715248009796,\n",
       " 0.1306389058991631,\n",
       " 0.12451520718513981,\n",
       " 0.14696876913655849,\n",
       " 0.14798938558889568,\n",
       " 0.15513370075525618,\n",
       " 0.13921208409879565,\n",
       " 0.15717493365993057,\n",
       " 0.16125739946927942,\n",
       " 0.1796284956113492,\n",
       " 0.178607879159012,\n",
       " 0.19310063278220047,\n",
       " 0.20902224943866088,\n",
       " 0.1906511532965911,\n",
       " 0.18044498877321902,\n",
       " 0.1824862216778934,\n",
       " 0.17697489283527246,\n",
       " 0.17677076954480508,\n",
       " 0.18044498877321902,\n",
       " 0.1775872627066748,\n",
       " 0.17595427638293526,\n",
       " 0.19840783833435394,\n",
       " 0.19044703000612373,\n",
       " 0.18738518064911203,\n",
       " 0.19432537252500504,\n",
       " 0.1967748520106144,\n",
       " 0.20228618085323535,\n",
       " 0.1967748520106144,\n",
       " 0.20004082465809347,\n",
       " 0.199836701367626,\n",
       " 0.20208205756276787,\n",
       " 0.21310471524800978,\n",
       " 0.21555419473361914,\n",
       " 0.2049397836293121,\n",
       " 0.21739130434782605,\n",
       " 0.21269646866707492,\n",
       " 0.21535007144315166,\n",
       " 0.19799959175341908,\n",
       " 0.1898346601347214,\n",
       " 0.17636252296387023,\n",
       " 0.17391304347826086,\n",
       " 0.1635027556644213,\n",
       " 0.16431924882629106,\n",
       " 0.17187181057358636,\n",
       " 0.17370892018779338,\n",
       " 0.1796284956113492,\n",
       " 0.17391304347826086,\n",
       " 0.16125739946927942,\n",
       " 0.1694223310879771,\n",
       " 0.17881200244947948,\n",
       " 0.17207593386405395,\n",
       " 0.16901408450704225,\n",
       " 0.17187181057358636,\n",
       " 0.17513778322106555,\n",
       " 0.18309859154929575,\n",
       " 0.19024290671565625,\n",
       " 0.18595631761583997,\n",
       " 0.19003878342518876,\n",
       " 0.173504796897326,\n",
       " 0.1673810981833027,\n",
       " 0.16921820779750968,\n",
       " 0.17023882424984693,\n",
       " 0.16227801592161667,\n",
       " 0.15064298836497247,\n",
       " 0.15207185139824453,\n",
       " 0.15105123494590733,\n",
       " 0.14696876913655849,\n",
       " 0.14594815268422123,\n",
       " 0.14553990610328638,\n",
       " 0.12390283731373747,\n",
       " 0.13206776893243516,\n",
       " 0.11226780975709327,\n",
       " 0.11920800163298634,\n",
       " 0.12655644008981426,\n",
       " 0.1351296182894468,\n",
       " 0.12982241273729328,\n",
       " 0.13431312512757704,\n",
       " 0.1267605633802817,\n",
       " 0.13145539906103287,\n",
       " 0.12737293325168403,\n",
       " 0.1351296182894468,\n",
       " 0.14553990610328638,\n",
       " 0.15370483772198407,\n",
       " 0.1514594815268422,\n",
       " 0.14227393345580724,\n",
       " 0.14901000204123288,\n",
       " 0.15166360481730967,\n",
       " 0.1543172075933864,\n",
       " 0.14737701571749334,\n",
       " 0.16064502959787708,\n",
       " 0.16227801592161667,\n",
       " 0.16370687895488872]"
      ]
     },
     "execution_count": 39,
     "metadata": {},
     "output_type": "execute_result"
    }
   ],
   "source": [
    "temp_input"
   ]
  },
  {
   "cell_type": "code",
   "execution_count": 40,
   "metadata": {},
   "outputs": [
    {
     "name": "stdout",
     "output_type": "stream",
     "text": [
      "[0.16625309]\n",
      "101\n",
      "1 day input [0.13798734 0.14166156 0.13778322 0.13268014 0.14104919 0.1367626\n",
      " 0.13063891 0.13104715 0.13063891 0.12451521 0.14696877 0.14798939\n",
      " 0.1551337  0.13921208 0.15717493 0.1612574  0.1796285  0.17860788\n",
      " 0.19310063 0.20902225 0.19065115 0.18044499 0.18248622 0.17697489\n",
      " 0.17677077 0.18044499 0.17758726 0.17595428 0.19840784 0.19044703\n",
      " 0.18738518 0.19432537 0.19677485 0.20228618 0.19677485 0.20004082\n",
      " 0.1998367  0.20208206 0.21310472 0.21555419 0.20493978 0.2173913\n",
      " 0.21269647 0.21535007 0.19799959 0.18983466 0.17636252 0.17391304\n",
      " 0.16350276 0.16431925 0.17187181 0.17370892 0.1796285  0.17391304\n",
      " 0.1612574  0.16942233 0.178812   0.17207593 0.16901408 0.17187181\n",
      " 0.17513778 0.18309859 0.19024291 0.18595632 0.19003878 0.1735048\n",
      " 0.1673811  0.16921821 0.17023882 0.16227802 0.15064299 0.15207185\n",
      " 0.15105123 0.14696877 0.14594815 0.14553991 0.12390284 0.13206777\n",
      " 0.11226781 0.119208   0.12655644 0.13512962 0.12982241 0.13431313\n",
      " 0.12676056 0.1314554  0.12737293 0.13512962 0.14553991 0.15370484\n",
      " 0.15145948 0.14227393 0.14901    0.1516636  0.15431721 0.14737702\n",
      " 0.16064503 0.16227802 0.16370688 0.16625309]\n",
      "1 day output [[0.16920578]]\n",
      "2 day input [0.14166156 0.13778322 0.13268014 0.14104919 0.1367626  0.13063891\n",
      " 0.13104715 0.13063891 0.12451521 0.14696877 0.14798939 0.1551337\n",
      " 0.13921208 0.15717493 0.1612574  0.1796285  0.17860788 0.19310063\n",
      " 0.20902225 0.19065115 0.18044499 0.18248622 0.17697489 0.17677077\n",
      " 0.18044499 0.17758726 0.17595428 0.19840784 0.19044703 0.18738518\n",
      " 0.19432537 0.19677485 0.20228618 0.19677485 0.20004082 0.1998367\n",
      " 0.20208206 0.21310472 0.21555419 0.20493978 0.2173913  0.21269647\n",
      " 0.21535007 0.19799959 0.18983466 0.17636252 0.17391304 0.16350276\n",
      " 0.16431925 0.17187181 0.17370892 0.1796285  0.17391304 0.1612574\n",
      " 0.16942233 0.178812   0.17207593 0.16901408 0.17187181 0.17513778\n",
      " 0.18309859 0.19024291 0.18595632 0.19003878 0.1735048  0.1673811\n",
      " 0.16921821 0.17023882 0.16227802 0.15064299 0.15207185 0.15105123\n",
      " 0.14696877 0.14594815 0.14553991 0.12390284 0.13206777 0.11226781\n",
      " 0.119208   0.12655644 0.13512962 0.12982241 0.13431313 0.12676056\n",
      " 0.1314554  0.12737293 0.13512962 0.14553991 0.15370484 0.15145948\n",
      " 0.14227393 0.14901    0.1516636  0.15431721 0.14737702 0.16064503\n",
      " 0.16227802 0.16370688 0.16625309 0.16920578]\n",
      "2 day output [[0.1716624]]\n",
      "3 day input [0.13778322 0.13268014 0.14104919 0.1367626  0.13063891 0.13104715\n",
      " 0.13063891 0.12451521 0.14696877 0.14798939 0.1551337  0.13921208\n",
      " 0.15717493 0.1612574  0.1796285  0.17860788 0.19310063 0.20902225\n",
      " 0.19065115 0.18044499 0.18248622 0.17697489 0.17677077 0.18044499\n",
      " 0.17758726 0.17595428 0.19840784 0.19044703 0.18738518 0.19432537\n",
      " 0.19677485 0.20228618 0.19677485 0.20004082 0.1998367  0.20208206\n",
      " 0.21310472 0.21555419 0.20493978 0.2173913  0.21269647 0.21535007\n",
      " 0.19799959 0.18983466 0.17636252 0.17391304 0.16350276 0.16431925\n",
      " 0.17187181 0.17370892 0.1796285  0.17391304 0.1612574  0.16942233\n",
      " 0.178812   0.17207593 0.16901408 0.17187181 0.17513778 0.18309859\n",
      " 0.19024291 0.18595632 0.19003878 0.1735048  0.1673811  0.16921821\n",
      " 0.17023882 0.16227802 0.15064299 0.15207185 0.15105123 0.14696877\n",
      " 0.14594815 0.14553991 0.12390284 0.13206777 0.11226781 0.119208\n",
      " 0.12655644 0.13512962 0.12982241 0.13431313 0.12676056 0.1314554\n",
      " 0.12737293 0.13512962 0.14553991 0.15370484 0.15145948 0.14227393\n",
      " 0.14901    0.1516636  0.15431721 0.14737702 0.16064503 0.16227802\n",
      " 0.16370688 0.16625309 0.16920578 0.17166241]\n",
      "3 day output [[0.17388956]]\n",
      "4 day input [0.13268014 0.14104919 0.1367626  0.13063891 0.13104715 0.13063891\n",
      " 0.12451521 0.14696877 0.14798939 0.1551337  0.13921208 0.15717493\n",
      " 0.1612574  0.1796285  0.17860788 0.19310063 0.20902225 0.19065115\n",
      " 0.18044499 0.18248622 0.17697489 0.17677077 0.18044499 0.17758726\n",
      " 0.17595428 0.19840784 0.19044703 0.18738518 0.19432537 0.19677485\n",
      " 0.20228618 0.19677485 0.20004082 0.1998367  0.20208206 0.21310472\n",
      " 0.21555419 0.20493978 0.2173913  0.21269647 0.21535007 0.19799959\n",
      " 0.18983466 0.17636252 0.17391304 0.16350276 0.16431925 0.17187181\n",
      " 0.17370892 0.1796285  0.17391304 0.1612574  0.16942233 0.178812\n",
      " 0.17207593 0.16901408 0.17187181 0.17513778 0.18309859 0.19024291\n",
      " 0.18595632 0.19003878 0.1735048  0.1673811  0.16921821 0.17023882\n",
      " 0.16227802 0.15064299 0.15207185 0.15105123 0.14696877 0.14594815\n",
      " 0.14553991 0.12390284 0.13206777 0.11226781 0.119208   0.12655644\n",
      " 0.13512962 0.12982241 0.13431313 0.12676056 0.1314554  0.12737293\n",
      " 0.13512962 0.14553991 0.15370484 0.15145948 0.14227393 0.14901\n",
      " 0.1516636  0.15431721 0.14737702 0.16064503 0.16227802 0.16370688\n",
      " 0.16625309 0.16920578 0.17166241 0.17388956]\n",
      "4 day output [[0.1760019]]\n",
      "5 day input [0.14104919 0.1367626  0.13063891 0.13104715 0.13063891 0.12451521\n",
      " 0.14696877 0.14798939 0.1551337  0.13921208 0.15717493 0.1612574\n",
      " 0.1796285  0.17860788 0.19310063 0.20902225 0.19065115 0.18044499\n",
      " 0.18248622 0.17697489 0.17677077 0.18044499 0.17758726 0.17595428\n",
      " 0.19840784 0.19044703 0.18738518 0.19432537 0.19677485 0.20228618\n",
      " 0.19677485 0.20004082 0.1998367  0.20208206 0.21310472 0.21555419\n",
      " 0.20493978 0.2173913  0.21269647 0.21535007 0.19799959 0.18983466\n",
      " 0.17636252 0.17391304 0.16350276 0.16431925 0.17187181 0.17370892\n",
      " 0.1796285  0.17391304 0.1612574  0.16942233 0.178812   0.17207593\n",
      " 0.16901408 0.17187181 0.17513778 0.18309859 0.19024291 0.18595632\n",
      " 0.19003878 0.1735048  0.1673811  0.16921821 0.17023882 0.16227802\n",
      " 0.15064299 0.15207185 0.15105123 0.14696877 0.14594815 0.14553991\n",
      " 0.12390284 0.13206777 0.11226781 0.119208   0.12655644 0.13512962\n",
      " 0.12982241 0.13431313 0.12676056 0.1314554  0.12737293 0.13512962\n",
      " 0.14553991 0.15370484 0.15145948 0.14227393 0.14901    0.1516636\n",
      " 0.15431721 0.14737702 0.16064503 0.16227802 0.16370688 0.16625309\n",
      " 0.16920578 0.17166241 0.17388956 0.17600191]\n",
      "5 day output [[0.17803787]]\n",
      "6 day input [0.1367626  0.13063891 0.13104715 0.13063891 0.12451521 0.14696877\n",
      " 0.14798939 0.1551337  0.13921208 0.15717493 0.1612574  0.1796285\n",
      " 0.17860788 0.19310063 0.20902225 0.19065115 0.18044499 0.18248622\n",
      " 0.17697489 0.17677077 0.18044499 0.17758726 0.17595428 0.19840784\n",
      " 0.19044703 0.18738518 0.19432537 0.19677485 0.20228618 0.19677485\n",
      " 0.20004082 0.1998367  0.20208206 0.21310472 0.21555419 0.20493978\n",
      " 0.2173913  0.21269647 0.21535007 0.19799959 0.18983466 0.17636252\n",
      " 0.17391304 0.16350276 0.16431925 0.17187181 0.17370892 0.1796285\n",
      " 0.17391304 0.1612574  0.16942233 0.178812   0.17207593 0.16901408\n",
      " 0.17187181 0.17513778 0.18309859 0.19024291 0.18595632 0.19003878\n",
      " 0.1735048  0.1673811  0.16921821 0.17023882 0.16227802 0.15064299\n",
      " 0.15207185 0.15105123 0.14696877 0.14594815 0.14553991 0.12390284\n",
      " 0.13206777 0.11226781 0.119208   0.12655644 0.13512962 0.12982241\n",
      " 0.13431313 0.12676056 0.1314554  0.12737293 0.13512962 0.14553991\n",
      " 0.15370484 0.15145948 0.14227393 0.14901    0.1516636  0.15431721\n",
      " 0.14737702 0.16064503 0.16227802 0.16370688 0.16625309 0.16920578\n",
      " 0.17166241 0.17388956 0.17600191 0.17803787]\n",
      "6 day output [[0.18001504]]\n",
      "7 day input [0.13063891 0.13104715 0.13063891 0.12451521 0.14696877 0.14798939\n",
      " 0.1551337  0.13921208 0.15717493 0.1612574  0.1796285  0.17860788\n",
      " 0.19310063 0.20902225 0.19065115 0.18044499 0.18248622 0.17697489\n",
      " 0.17677077 0.18044499 0.17758726 0.17595428 0.19840784 0.19044703\n",
      " 0.18738518 0.19432537 0.19677485 0.20228618 0.19677485 0.20004082\n",
      " 0.1998367  0.20208206 0.21310472 0.21555419 0.20493978 0.2173913\n",
      " 0.21269647 0.21535007 0.19799959 0.18983466 0.17636252 0.17391304\n",
      " 0.16350276 0.16431925 0.17187181 0.17370892 0.1796285  0.17391304\n",
      " 0.1612574  0.16942233 0.178812   0.17207593 0.16901408 0.17187181\n",
      " 0.17513778 0.18309859 0.19024291 0.18595632 0.19003878 0.1735048\n",
      " 0.1673811  0.16921821 0.17023882 0.16227802 0.15064299 0.15207185\n",
      " 0.15105123 0.14696877 0.14594815 0.14553991 0.12390284 0.13206777\n",
      " 0.11226781 0.119208   0.12655644 0.13512962 0.12982241 0.13431313\n",
      " 0.12676056 0.1314554  0.12737293 0.13512962 0.14553991 0.15370484\n",
      " 0.15145948 0.14227393 0.14901    0.1516636  0.15431721 0.14737702\n",
      " 0.16064503 0.16227802 0.16370688 0.16625309 0.16920578 0.17166241\n",
      " 0.17388956 0.17600191 0.17803787 0.18001504]\n",
      "7 day output [[0.18194702]]\n",
      "8 day input [0.13104715 0.13063891 0.12451521 0.14696877 0.14798939 0.1551337\n",
      " 0.13921208 0.15717493 0.1612574  0.1796285  0.17860788 0.19310063\n",
      " 0.20902225 0.19065115 0.18044499 0.18248622 0.17697489 0.17677077\n",
      " 0.18044499 0.17758726 0.17595428 0.19840784 0.19044703 0.18738518\n",
      " 0.19432537 0.19677485 0.20228618 0.19677485 0.20004082 0.1998367\n",
      " 0.20208206 0.21310472 0.21555419 0.20493978 0.2173913  0.21269647\n",
      " 0.21535007 0.19799959 0.18983466 0.17636252 0.17391304 0.16350276\n",
      " 0.16431925 0.17187181 0.17370892 0.1796285  0.17391304 0.1612574\n",
      " 0.16942233 0.178812   0.17207593 0.16901408 0.17187181 0.17513778\n",
      " 0.18309859 0.19024291 0.18595632 0.19003878 0.1735048  0.1673811\n",
      " 0.16921821 0.17023882 0.16227802 0.15064299 0.15207185 0.15105123\n",
      " 0.14696877 0.14594815 0.14553991 0.12390284 0.13206777 0.11226781\n",
      " 0.119208   0.12655644 0.13512962 0.12982241 0.13431313 0.12676056\n",
      " 0.1314554  0.12737293 0.13512962 0.14553991 0.15370484 0.15145948\n",
      " 0.14227393 0.14901    0.1516636  0.15431721 0.14737702 0.16064503\n",
      " 0.16227802 0.16370688 0.16625309 0.16920578 0.17166241 0.17388956\n",
      " 0.17600191 0.17803787 0.18001504 0.18194702]\n",
      "8 day output [[0.18384543]]\n",
      "9 day input [0.13063891 0.12451521 0.14696877 0.14798939 0.1551337  0.13921208\n",
      " 0.15717493 0.1612574  0.1796285  0.17860788 0.19310063 0.20902225\n",
      " 0.19065115 0.18044499 0.18248622 0.17697489 0.17677077 0.18044499\n",
      " 0.17758726 0.17595428 0.19840784 0.19044703 0.18738518 0.19432537\n",
      " 0.19677485 0.20228618 0.19677485 0.20004082 0.1998367  0.20208206\n",
      " 0.21310472 0.21555419 0.20493978 0.2173913  0.21269647 0.21535007\n",
      " 0.19799959 0.18983466 0.17636252 0.17391304 0.16350276 0.16431925\n",
      " 0.17187181 0.17370892 0.1796285  0.17391304 0.1612574  0.16942233\n",
      " 0.178812   0.17207593 0.16901408 0.17187181 0.17513778 0.18309859\n",
      " 0.19024291 0.18595632 0.19003878 0.1735048  0.1673811  0.16921821\n",
      " 0.17023882 0.16227802 0.15064299 0.15207185 0.15105123 0.14696877\n",
      " 0.14594815 0.14553991 0.12390284 0.13206777 0.11226781 0.119208\n",
      " 0.12655644 0.13512962 0.12982241 0.13431313 0.12676056 0.1314554\n",
      " 0.12737293 0.13512962 0.14553991 0.15370484 0.15145948 0.14227393\n",
      " 0.14901    0.1516636  0.15431721 0.14737702 0.16064503 0.16227802\n",
      " 0.16370688 0.16625309 0.16920578 0.17166241 0.17388956 0.17600191\n",
      " 0.17803787 0.18001504 0.18194702 0.18384543]\n",
      "9 day output [[0.18571804]]\n",
      "10 day input [0.12451521 0.14696877 0.14798939 0.1551337  0.13921208 0.15717493\n",
      " 0.1612574  0.1796285  0.17860788 0.19310063 0.20902225 0.19065115\n",
      " 0.18044499 0.18248622 0.17697489 0.17677077 0.18044499 0.17758726\n",
      " 0.17595428 0.19840784 0.19044703 0.18738518 0.19432537 0.19677485\n",
      " 0.20228618 0.19677485 0.20004082 0.1998367  0.20208206 0.21310472\n",
      " 0.21555419 0.20493978 0.2173913  0.21269647 0.21535007 0.19799959\n",
      " 0.18983466 0.17636252 0.17391304 0.16350276 0.16431925 0.17187181\n",
      " 0.17370892 0.1796285  0.17391304 0.1612574  0.16942233 0.178812\n",
      " 0.17207593 0.16901408 0.17187181 0.17513778 0.18309859 0.19024291\n",
      " 0.18595632 0.19003878 0.1735048  0.1673811  0.16921821 0.17023882\n",
      " 0.16227802 0.15064299 0.15207185 0.15105123 0.14696877 0.14594815\n",
      " 0.14553991 0.12390284 0.13206777 0.11226781 0.119208   0.12655644\n",
      " 0.13512962 0.12982241 0.13431313 0.12676056 0.1314554  0.12737293\n",
      " 0.13512962 0.14553991 0.15370484 0.15145948 0.14227393 0.14901\n",
      " 0.1516636  0.15431721 0.14737702 0.16064503 0.16227802 0.16370688\n",
      " 0.16625309 0.16920578 0.17166241 0.17388956 0.17600191 0.17803787\n",
      " 0.18001504 0.18194702 0.18384543 0.18571804]\n",
      "10 day output [[0.18756863]]\n",
      "11 day input [0.14696877 0.14798939 0.1551337  0.13921208 0.15717493 0.1612574\n",
      " 0.1796285  0.17860788 0.19310063 0.20902225 0.19065115 0.18044499\n",
      " 0.18248622 0.17697489 0.17677077 0.18044499 0.17758726 0.17595428\n",
      " 0.19840784 0.19044703 0.18738518 0.19432537 0.19677485 0.20228618\n",
      " 0.19677485 0.20004082 0.1998367  0.20208206 0.21310472 0.21555419\n",
      " 0.20493978 0.2173913  0.21269647 0.21535007 0.19799959 0.18983466\n",
      " 0.17636252 0.17391304 0.16350276 0.16431925 0.17187181 0.17370892\n",
      " 0.1796285  0.17391304 0.1612574  0.16942233 0.178812   0.17207593\n",
      " 0.16901408 0.17187181 0.17513778 0.18309859 0.19024291 0.18595632\n",
      " 0.19003878 0.1735048  0.1673811  0.16921821 0.17023882 0.16227802\n",
      " 0.15064299 0.15207185 0.15105123 0.14696877 0.14594815 0.14553991\n",
      " 0.12390284 0.13206777 0.11226781 0.119208   0.12655644 0.13512962\n",
      " 0.12982241 0.13431313 0.12676056 0.1314554  0.12737293 0.13512962\n",
      " 0.14553991 0.15370484 0.15145948 0.14227393 0.14901    0.1516636\n",
      " 0.15431721 0.14737702 0.16064503 0.16227802 0.16370688 0.16625309\n",
      " 0.16920578 0.17166241 0.17388956 0.17600191 0.17803787 0.18001504\n",
      " 0.18194702 0.18384543 0.18571804 0.18756863]\n",
      "11 day output [[0.18939798]]\n",
      "12 day input [0.14798939 0.1551337  0.13921208 0.15717493 0.1612574  0.1796285\n",
      " 0.17860788 0.19310063 0.20902225 0.19065115 0.18044499 0.18248622\n",
      " 0.17697489 0.17677077 0.18044499 0.17758726 0.17595428 0.19840784\n",
      " 0.19044703 0.18738518 0.19432537 0.19677485 0.20228618 0.19677485\n",
      " 0.20004082 0.1998367  0.20208206 0.21310472 0.21555419 0.20493978\n",
      " 0.2173913  0.21269647 0.21535007 0.19799959 0.18983466 0.17636252\n",
      " 0.17391304 0.16350276 0.16431925 0.17187181 0.17370892 0.1796285\n",
      " 0.17391304 0.1612574  0.16942233 0.178812   0.17207593 0.16901408\n",
      " 0.17187181 0.17513778 0.18309859 0.19024291 0.18595632 0.19003878\n",
      " 0.1735048  0.1673811  0.16921821 0.17023882 0.16227802 0.15064299\n",
      " 0.15207185 0.15105123 0.14696877 0.14594815 0.14553991 0.12390284\n",
      " 0.13206777 0.11226781 0.119208   0.12655644 0.13512962 0.12982241\n",
      " 0.13431313 0.12676056 0.1314554  0.12737293 0.13512962 0.14553991\n",
      " 0.15370484 0.15145948 0.14227393 0.14901    0.1516636  0.15431721\n",
      " 0.14737702 0.16064503 0.16227802 0.16370688 0.16625309 0.16920578\n",
      " 0.17166241 0.17388956 0.17600191 0.17803787 0.18001504 0.18194702\n",
      " 0.18384543 0.18571804 0.18756863 0.18939798]\n",
      "12 day output [[0.19120485]]\n",
      "13 day input [0.1551337  0.13921208 0.15717493 0.1612574  0.1796285  0.17860788\n",
      " 0.19310063 0.20902225 0.19065115 0.18044499 0.18248622 0.17697489\n",
      " 0.17677077 0.18044499 0.17758726 0.17595428 0.19840784 0.19044703\n",
      " 0.18738518 0.19432537 0.19677485 0.20228618 0.19677485 0.20004082\n",
      " 0.1998367  0.20208206 0.21310472 0.21555419 0.20493978 0.2173913\n",
      " 0.21269647 0.21535007 0.19799959 0.18983466 0.17636252 0.17391304\n",
      " 0.16350276 0.16431925 0.17187181 0.17370892 0.1796285  0.17391304\n",
      " 0.1612574  0.16942233 0.178812   0.17207593 0.16901408 0.17187181\n",
      " 0.17513778 0.18309859 0.19024291 0.18595632 0.19003878 0.1735048\n",
      " 0.1673811  0.16921821 0.17023882 0.16227802 0.15064299 0.15207185\n",
      " 0.15105123 0.14696877 0.14594815 0.14553991 0.12390284 0.13206777\n",
      " 0.11226781 0.119208   0.12655644 0.13512962 0.12982241 0.13431313\n",
      " 0.12676056 0.1314554  0.12737293 0.13512962 0.14553991 0.15370484\n",
      " 0.15145948 0.14227393 0.14901    0.1516636  0.15431721 0.14737702\n",
      " 0.16064503 0.16227802 0.16370688 0.16625309 0.16920578 0.17166241\n",
      " 0.17388956 0.17600191 0.17803787 0.18001504 0.18194702 0.18384543\n",
      " 0.18571804 0.18756863 0.18939798 0.19120485]\n",
      "13 day output [[0.1929879]]\n",
      "14 day input [0.13921208 0.15717493 0.1612574  0.1796285  0.17860788 0.19310063\n",
      " 0.20902225 0.19065115 0.18044499 0.18248622 0.17697489 0.17677077\n",
      " 0.18044499 0.17758726 0.17595428 0.19840784 0.19044703 0.18738518\n",
      " 0.19432537 0.19677485 0.20228618 0.19677485 0.20004082 0.1998367\n",
      " 0.20208206 0.21310472 0.21555419 0.20493978 0.2173913  0.21269647\n",
      " 0.21535007 0.19799959 0.18983466 0.17636252 0.17391304 0.16350276\n",
      " 0.16431925 0.17187181 0.17370892 0.1796285  0.17391304 0.1612574\n",
      " 0.16942233 0.178812   0.17207593 0.16901408 0.17187181 0.17513778\n",
      " 0.18309859 0.19024291 0.18595632 0.19003878 0.1735048  0.1673811\n",
      " 0.16921821 0.17023882 0.16227802 0.15064299 0.15207185 0.15105123\n",
      " 0.14696877 0.14594815 0.14553991 0.12390284 0.13206777 0.11226781\n",
      " 0.119208   0.12655644 0.13512962 0.12982241 0.13431313 0.12676056\n",
      " 0.1314554  0.12737293 0.13512962 0.14553991 0.15370484 0.15145948\n",
      " 0.14227393 0.14901    0.1516636  0.15431721 0.14737702 0.16064503\n",
      " 0.16227802 0.16370688 0.16625309 0.16920578 0.17166241 0.17388956\n",
      " 0.17600191 0.17803787 0.18001504 0.18194702 0.18384543 0.18571804\n",
      " 0.18756863 0.18939798 0.19120485 0.1929879 ]\n",
      "14 day output [[0.19474524]]\n",
      "15 day input [0.15717493 0.1612574  0.1796285  0.17860788 0.19310063 0.20902225\n",
      " 0.19065115 0.18044499 0.18248622 0.17697489 0.17677077 0.18044499\n",
      " 0.17758726 0.17595428 0.19840784 0.19044703 0.18738518 0.19432537\n",
      " 0.19677485 0.20228618 0.19677485 0.20004082 0.1998367  0.20208206\n",
      " 0.21310472 0.21555419 0.20493978 0.2173913  0.21269647 0.21535007\n",
      " 0.19799959 0.18983466 0.17636252 0.17391304 0.16350276 0.16431925\n",
      " 0.17187181 0.17370892 0.1796285  0.17391304 0.1612574  0.16942233\n",
      " 0.178812   0.17207593 0.16901408 0.17187181 0.17513778 0.18309859\n",
      " 0.19024291 0.18595632 0.19003878 0.1735048  0.1673811  0.16921821\n",
      " 0.17023882 0.16227802 0.15064299 0.15207185 0.15105123 0.14696877\n",
      " 0.14594815 0.14553991 0.12390284 0.13206777 0.11226781 0.119208\n",
      " 0.12655644 0.13512962 0.12982241 0.13431313 0.12676056 0.1314554\n",
      " 0.12737293 0.13512962 0.14553991 0.15370484 0.15145948 0.14227393\n",
      " 0.14901    0.1516636  0.15431721 0.14737702 0.16064503 0.16227802\n",
      " 0.16370688 0.16625309 0.16920578 0.17166241 0.17388956 0.17600191\n",
      " 0.17803787 0.18001504 0.18194702 0.18384543 0.18571804 0.18756863\n",
      " 0.18939798 0.19120485 0.1929879  0.19474524]\n",
      "15 day output [[0.19647613]]\n",
      "16 day input [0.1612574  0.1796285  0.17860788 0.19310063 0.20902225 0.19065115\n",
      " 0.18044499 0.18248622 0.17697489 0.17677077 0.18044499 0.17758726\n",
      " 0.17595428 0.19840784 0.19044703 0.18738518 0.19432537 0.19677485\n",
      " 0.20228618 0.19677485 0.20004082 0.1998367  0.20208206 0.21310472\n",
      " 0.21555419 0.20493978 0.2173913  0.21269647 0.21535007 0.19799959\n",
      " 0.18983466 0.17636252 0.17391304 0.16350276 0.16431925 0.17187181\n",
      " 0.17370892 0.1796285  0.17391304 0.1612574  0.16942233 0.178812\n",
      " 0.17207593 0.16901408 0.17187181 0.17513778 0.18309859 0.19024291\n",
      " 0.18595632 0.19003878 0.1735048  0.1673811  0.16921821 0.17023882\n",
      " 0.16227802 0.15064299 0.15207185 0.15105123 0.14696877 0.14594815\n",
      " 0.14553991 0.12390284 0.13206777 0.11226781 0.119208   0.12655644\n",
      " 0.13512962 0.12982241 0.13431313 0.12676056 0.1314554  0.12737293\n",
      " 0.13512962 0.14553991 0.15370484 0.15145948 0.14227393 0.14901\n",
      " 0.1516636  0.15431721 0.14737702 0.16064503 0.16227802 0.16370688\n",
      " 0.16625309 0.16920578 0.17166241 0.17388956 0.17600191 0.17803787\n",
      " 0.18001504 0.18194702 0.18384543 0.18571804 0.18756863 0.18939798\n",
      " 0.19120485 0.1929879  0.19474524 0.19647613]\n",
      "16 day output [[0.19818014]]\n",
      "17 day input [0.1796285  0.17860788 0.19310063 0.20902225 0.19065115 0.18044499\n",
      " 0.18248622 0.17697489 0.17677077 0.18044499 0.17758726 0.17595428\n",
      " 0.19840784 0.19044703 0.18738518 0.19432537 0.19677485 0.20228618\n",
      " 0.19677485 0.20004082 0.1998367  0.20208206 0.21310472 0.21555419\n",
      " 0.20493978 0.2173913  0.21269647 0.21535007 0.19799959 0.18983466\n",
      " 0.17636252 0.17391304 0.16350276 0.16431925 0.17187181 0.17370892\n",
      " 0.1796285  0.17391304 0.1612574  0.16942233 0.178812   0.17207593\n",
      " 0.16901408 0.17187181 0.17513778 0.18309859 0.19024291 0.18595632\n",
      " 0.19003878 0.1735048  0.1673811  0.16921821 0.17023882 0.16227802\n",
      " 0.15064299 0.15207185 0.15105123 0.14696877 0.14594815 0.14553991\n",
      " 0.12390284 0.13206777 0.11226781 0.119208   0.12655644 0.13512962\n",
      " 0.12982241 0.13431313 0.12676056 0.1314554  0.12737293 0.13512962\n",
      " 0.14553991 0.15370484 0.15145948 0.14227393 0.14901    0.1516636\n",
      " 0.15431721 0.14737702 0.16064503 0.16227802 0.16370688 0.16625309\n",
      " 0.16920578 0.17166241 0.17388956 0.17600191 0.17803787 0.18001504\n",
      " 0.18194702 0.18384543 0.18571804 0.18756863 0.18939798 0.19120485\n",
      " 0.1929879  0.19474524 0.19647613 0.19818014]\n",
      "17 day output [[0.19985762]]\n",
      "18 day input [0.17860788 0.19310063 0.20902225 0.19065115 0.18044499 0.18248622\n",
      " 0.17697489 0.17677077 0.18044499 0.17758726 0.17595428 0.19840784\n",
      " 0.19044703 0.18738518 0.19432537 0.19677485 0.20228618 0.19677485\n",
      " 0.20004082 0.1998367  0.20208206 0.21310472 0.21555419 0.20493978\n",
      " 0.2173913  0.21269647 0.21535007 0.19799959 0.18983466 0.17636252\n",
      " 0.17391304 0.16350276 0.16431925 0.17187181 0.17370892 0.1796285\n",
      " 0.17391304 0.1612574  0.16942233 0.178812   0.17207593 0.16901408\n",
      " 0.17187181 0.17513778 0.18309859 0.19024291 0.18595632 0.19003878\n",
      " 0.1735048  0.1673811  0.16921821 0.17023882 0.16227802 0.15064299\n",
      " 0.15207185 0.15105123 0.14696877 0.14594815 0.14553991 0.12390284\n",
      " 0.13206777 0.11226781 0.119208   0.12655644 0.13512962 0.12982241\n",
      " 0.13431313 0.12676056 0.1314554  0.12737293 0.13512962 0.14553991\n",
      " 0.15370484 0.15145948 0.14227393 0.14901    0.1516636  0.15431721\n",
      " 0.14737702 0.16064503 0.16227802 0.16370688 0.16625309 0.16920578\n",
      " 0.17166241 0.17388956 0.17600191 0.17803787 0.18001504 0.18194702\n",
      " 0.18384543 0.18571804 0.18756863 0.18939798 0.19120485 0.1929879\n",
      " 0.19474524 0.19647613 0.19818014 0.19985762]\n",
      "18 day output [[0.20150961]]\n",
      "19 day input [0.19310063 0.20902225 0.19065115 0.18044499 0.18248622 0.17697489\n",
      " 0.17677077 0.18044499 0.17758726 0.17595428 0.19840784 0.19044703\n",
      " 0.18738518 0.19432537 0.19677485 0.20228618 0.19677485 0.20004082\n",
      " 0.1998367  0.20208206 0.21310472 0.21555419 0.20493978 0.2173913\n",
      " 0.21269647 0.21535007 0.19799959 0.18983466 0.17636252 0.17391304\n",
      " 0.16350276 0.16431925 0.17187181 0.17370892 0.1796285  0.17391304\n",
      " 0.1612574  0.16942233 0.178812   0.17207593 0.16901408 0.17187181\n",
      " 0.17513778 0.18309859 0.19024291 0.18595632 0.19003878 0.1735048\n",
      " 0.1673811  0.16921821 0.17023882 0.16227802 0.15064299 0.15207185\n",
      " 0.15105123 0.14696877 0.14594815 0.14553991 0.12390284 0.13206777\n",
      " 0.11226781 0.119208   0.12655644 0.13512962 0.12982241 0.13431313\n",
      " 0.12676056 0.1314554  0.12737293 0.13512962 0.14553991 0.15370484\n",
      " 0.15145948 0.14227393 0.14901    0.1516636  0.15431721 0.14737702\n",
      " 0.16064503 0.16227802 0.16370688 0.16625309 0.16920578 0.17166241\n",
      " 0.17388956 0.17600191 0.17803787 0.18001504 0.18194702 0.18384543\n",
      " 0.18571804 0.18756863 0.18939798 0.19120485 0.1929879  0.19474524\n",
      " 0.19647613 0.19818014 0.19985762 0.20150961]\n",
      "19 day output [[0.20313726]]\n",
      "20 day input [0.20902225 0.19065115 0.18044499 0.18248622 0.17697489 0.17677077\n",
      " 0.18044499 0.17758726 0.17595428 0.19840784 0.19044703 0.18738518\n",
      " 0.19432537 0.19677485 0.20228618 0.19677485 0.20004082 0.1998367\n",
      " 0.20208206 0.21310472 0.21555419 0.20493978 0.2173913  0.21269647\n",
      " 0.21535007 0.19799959 0.18983466 0.17636252 0.17391304 0.16350276\n",
      " 0.16431925 0.17187181 0.17370892 0.1796285  0.17391304 0.1612574\n",
      " 0.16942233 0.178812   0.17207593 0.16901408 0.17187181 0.17513778\n",
      " 0.18309859 0.19024291 0.18595632 0.19003878 0.1735048  0.1673811\n",
      " 0.16921821 0.17023882 0.16227802 0.15064299 0.15207185 0.15105123\n",
      " 0.14696877 0.14594815 0.14553991 0.12390284 0.13206777 0.11226781\n",
      " 0.119208   0.12655644 0.13512962 0.12982241 0.13431313 0.12676056\n",
      " 0.1314554  0.12737293 0.13512962 0.14553991 0.15370484 0.15145948\n",
      " 0.14227393 0.14901    0.1516636  0.15431721 0.14737702 0.16064503\n",
      " 0.16227802 0.16370688 0.16625309 0.16920578 0.17166241 0.17388956\n",
      " 0.17600191 0.17803787 0.18001504 0.18194702 0.18384543 0.18571804\n",
      " 0.18756863 0.18939798 0.19120485 0.1929879  0.19474524 0.19647613\n",
      " 0.19818014 0.19985762 0.20150961 0.20313726]\n",
      "20 day output [[0.20474197]]\n",
      "21 day input [0.19065115 0.18044499 0.18248622 0.17697489 0.17677077 0.18044499\n",
      " 0.17758726 0.17595428 0.19840784 0.19044703 0.18738518 0.19432537\n",
      " 0.19677485 0.20228618 0.19677485 0.20004082 0.1998367  0.20208206\n",
      " 0.21310472 0.21555419 0.20493978 0.2173913  0.21269647 0.21535007\n",
      " 0.19799959 0.18983466 0.17636252 0.17391304 0.16350276 0.16431925\n",
      " 0.17187181 0.17370892 0.1796285  0.17391304 0.1612574  0.16942233\n",
      " 0.178812   0.17207593 0.16901408 0.17187181 0.17513778 0.18309859\n",
      " 0.19024291 0.18595632 0.19003878 0.1735048  0.1673811  0.16921821\n",
      " 0.17023882 0.16227802 0.15064299 0.15207185 0.15105123 0.14696877\n",
      " 0.14594815 0.14553991 0.12390284 0.13206777 0.11226781 0.119208\n",
      " 0.12655644 0.13512962 0.12982241 0.13431313 0.12676056 0.1314554\n",
      " 0.12737293 0.13512962 0.14553991 0.15370484 0.15145948 0.14227393\n",
      " 0.14901    0.1516636  0.15431721 0.14737702 0.16064503 0.16227802\n",
      " 0.16370688 0.16625309 0.16920578 0.17166241 0.17388956 0.17600191\n",
      " 0.17803787 0.18001504 0.18194702 0.18384543 0.18571804 0.18756863\n",
      " 0.18939798 0.19120485 0.1929879  0.19474524 0.19647613 0.19818014\n",
      " 0.19985762 0.20150961 0.20313726 0.20474197]\n",
      "21 day output [[0.20632498]]\n",
      "22 day input [0.18044499 0.18248622 0.17697489 0.17677077 0.18044499 0.17758726\n",
      " 0.17595428 0.19840784 0.19044703 0.18738518 0.19432537 0.19677485\n",
      " 0.20228618 0.19677485 0.20004082 0.1998367  0.20208206 0.21310472\n",
      " 0.21555419 0.20493978 0.2173913  0.21269647 0.21535007 0.19799959\n",
      " 0.18983466 0.17636252 0.17391304 0.16350276 0.16431925 0.17187181\n",
      " 0.17370892 0.1796285  0.17391304 0.1612574  0.16942233 0.178812\n",
      " 0.17207593 0.16901408 0.17187181 0.17513778 0.18309859 0.19024291\n",
      " 0.18595632 0.19003878 0.1735048  0.1673811  0.16921821 0.17023882\n",
      " 0.16227802 0.15064299 0.15207185 0.15105123 0.14696877 0.14594815\n",
      " 0.14553991 0.12390284 0.13206777 0.11226781 0.119208   0.12655644\n",
      " 0.13512962 0.12982241 0.13431313 0.12676056 0.1314554  0.12737293\n",
      " 0.13512962 0.14553991 0.15370484 0.15145948 0.14227393 0.14901\n",
      " 0.1516636  0.15431721 0.14737702 0.16064503 0.16227802 0.16370688\n",
      " 0.16625309 0.16920578 0.17166241 0.17388956 0.17600191 0.17803787\n",
      " 0.18001504 0.18194702 0.18384543 0.18571804 0.18756863 0.18939798\n",
      " 0.19120485 0.1929879  0.19474524 0.19647613 0.19818014 0.19985762\n",
      " 0.20150961 0.20313726 0.20474197 0.20632498]\n",
      "22 day output [[0.20788766]]\n",
      "23 day input [0.18248622 0.17697489 0.17677077 0.18044499 0.17758726 0.17595428\n",
      " 0.19840784 0.19044703 0.18738518 0.19432537 0.19677485 0.20228618\n",
      " 0.19677485 0.20004082 0.1998367  0.20208206 0.21310472 0.21555419\n",
      " 0.20493978 0.2173913  0.21269647 0.21535007 0.19799959 0.18983466\n",
      " 0.17636252 0.17391304 0.16350276 0.16431925 0.17187181 0.17370892\n",
      " 0.1796285  0.17391304 0.1612574  0.16942233 0.178812   0.17207593\n",
      " 0.16901408 0.17187181 0.17513778 0.18309859 0.19024291 0.18595632\n",
      " 0.19003878 0.1735048  0.1673811  0.16921821 0.17023882 0.16227802\n",
      " 0.15064299 0.15207185 0.15105123 0.14696877 0.14594815 0.14553991\n",
      " 0.12390284 0.13206777 0.11226781 0.119208   0.12655644 0.13512962\n",
      " 0.12982241 0.13431313 0.12676056 0.1314554  0.12737293 0.13512962\n",
      " 0.14553991 0.15370484 0.15145948 0.14227393 0.14901    0.1516636\n",
      " 0.15431721 0.14737702 0.16064503 0.16227802 0.16370688 0.16625309\n",
      " 0.16920578 0.17166241 0.17388956 0.17600191 0.17803787 0.18001504\n",
      " 0.18194702 0.18384543 0.18571804 0.18756863 0.18939798 0.19120485\n",
      " 0.1929879  0.19474524 0.19647613 0.19818014 0.19985762 0.20150961\n",
      " 0.20313726 0.20474197 0.20632498 0.20788766]\n",
      "23 day output [[0.20943086]]\n",
      "24 day input [0.17697489 0.17677077 0.18044499 0.17758726 0.17595428 0.19840784\n",
      " 0.19044703 0.18738518 0.19432537 0.19677485 0.20228618 0.19677485\n",
      " 0.20004082 0.1998367  0.20208206 0.21310472 0.21555419 0.20493978\n",
      " 0.2173913  0.21269647 0.21535007 0.19799959 0.18983466 0.17636252\n",
      " 0.17391304 0.16350276 0.16431925 0.17187181 0.17370892 0.1796285\n",
      " 0.17391304 0.1612574  0.16942233 0.178812   0.17207593 0.16901408\n",
      " 0.17187181 0.17513778 0.18309859 0.19024291 0.18595632 0.19003878\n",
      " 0.1735048  0.1673811  0.16921821 0.17023882 0.16227802 0.15064299\n",
      " 0.15207185 0.15105123 0.14696877 0.14594815 0.14553991 0.12390284\n",
      " 0.13206777 0.11226781 0.119208   0.12655644 0.13512962 0.12982241\n",
      " 0.13431313 0.12676056 0.1314554  0.12737293 0.13512962 0.14553991\n",
      " 0.15370484 0.15145948 0.14227393 0.14901    0.1516636  0.15431721\n",
      " 0.14737702 0.16064503 0.16227802 0.16370688 0.16625309 0.16920578\n",
      " 0.17166241 0.17388956 0.17600191 0.17803787 0.18001504 0.18194702\n",
      " 0.18384543 0.18571804 0.18756863 0.18939798 0.19120485 0.1929879\n",
      " 0.19474524 0.19647613 0.19818014 0.19985762 0.20150961 0.20313726\n",
      " 0.20474197 0.20632498 0.20788766 0.20943086]\n",
      "24 day output [[0.2109553]]\n",
      "25 day input [0.17677077 0.18044499 0.17758726 0.17595428 0.19840784 0.19044703\n",
      " 0.18738518 0.19432537 0.19677485 0.20228618 0.19677485 0.20004082\n",
      " 0.1998367  0.20208206 0.21310472 0.21555419 0.20493978 0.2173913\n",
      " 0.21269647 0.21535007 0.19799959 0.18983466 0.17636252 0.17391304\n",
      " 0.16350276 0.16431925 0.17187181 0.17370892 0.1796285  0.17391304\n",
      " 0.1612574  0.16942233 0.178812   0.17207593 0.16901408 0.17187181\n",
      " 0.17513778 0.18309859 0.19024291 0.18595632 0.19003878 0.1735048\n",
      " 0.1673811  0.16921821 0.17023882 0.16227802 0.15064299 0.15207185\n",
      " 0.15105123 0.14696877 0.14594815 0.14553991 0.12390284 0.13206777\n",
      " 0.11226781 0.119208   0.12655644 0.13512962 0.12982241 0.13431313\n",
      " 0.12676056 0.1314554  0.12737293 0.13512962 0.14553991 0.15370484\n",
      " 0.15145948 0.14227393 0.14901    0.1516636  0.15431721 0.14737702\n",
      " 0.16064503 0.16227802 0.16370688 0.16625309 0.16920578 0.17166241\n",
      " 0.17388956 0.17600191 0.17803787 0.18001504 0.18194702 0.18384543\n",
      " 0.18571804 0.18756863 0.18939798 0.19120485 0.1929879  0.19474524\n",
      " 0.19647613 0.19818014 0.19985762 0.20150961 0.20313726 0.20474197\n",
      " 0.20632498 0.20788766 0.20943086 0.21095531]\n",
      "25 day output [[0.21246159]]\n",
      "26 day input [0.18044499 0.17758726 0.17595428 0.19840784 0.19044703 0.18738518\n",
      " 0.19432537 0.19677485 0.20228618 0.19677485 0.20004082 0.1998367\n",
      " 0.20208206 0.21310472 0.21555419 0.20493978 0.2173913  0.21269647\n",
      " 0.21535007 0.19799959 0.18983466 0.17636252 0.17391304 0.16350276\n",
      " 0.16431925 0.17187181 0.17370892 0.1796285  0.17391304 0.1612574\n",
      " 0.16942233 0.178812   0.17207593 0.16901408 0.17187181 0.17513778\n",
      " 0.18309859 0.19024291 0.18595632 0.19003878 0.1735048  0.1673811\n",
      " 0.16921821 0.17023882 0.16227802 0.15064299 0.15207185 0.15105123\n",
      " 0.14696877 0.14594815 0.14553991 0.12390284 0.13206777 0.11226781\n",
      " 0.119208   0.12655644 0.13512962 0.12982241 0.13431313 0.12676056\n",
      " 0.1314554  0.12737293 0.13512962 0.14553991 0.15370484 0.15145948\n",
      " 0.14227393 0.14901    0.1516636  0.15431721 0.14737702 0.16064503\n",
      " 0.16227802 0.16370688 0.16625309 0.16920578 0.17166241 0.17388956\n",
      " 0.17600191 0.17803787 0.18001504 0.18194702 0.18384543 0.18571804\n",
      " 0.18756863 0.18939798 0.19120485 0.1929879  0.19474524 0.19647613\n",
      " 0.19818014 0.19985762 0.20150961 0.20313726 0.20474197 0.20632498\n",
      " 0.20788766 0.20943086 0.21095531 0.21246159]\n",
      "26 day output [[0.21395016]]\n",
      "27 day input [0.17758726 0.17595428 0.19840784 0.19044703 0.18738518 0.19432537\n",
      " 0.19677485 0.20228618 0.19677485 0.20004082 0.1998367  0.20208206\n",
      " 0.21310472 0.21555419 0.20493978 0.2173913  0.21269647 0.21535007\n",
      " 0.19799959 0.18983466 0.17636252 0.17391304 0.16350276 0.16431925\n",
      " 0.17187181 0.17370892 0.1796285  0.17391304 0.1612574  0.16942233\n",
      " 0.178812   0.17207593 0.16901408 0.17187181 0.17513778 0.18309859\n",
      " 0.19024291 0.18595632 0.19003878 0.1735048  0.1673811  0.16921821\n",
      " 0.17023882 0.16227802 0.15064299 0.15207185 0.15105123 0.14696877\n",
      " 0.14594815 0.14553991 0.12390284 0.13206777 0.11226781 0.119208\n",
      " 0.12655644 0.13512962 0.12982241 0.13431313 0.12676056 0.1314554\n",
      " 0.12737293 0.13512962 0.14553991 0.15370484 0.15145948 0.14227393\n",
      " 0.14901    0.1516636  0.15431721 0.14737702 0.16064503 0.16227802\n",
      " 0.16370688 0.16625309 0.16920578 0.17166241 0.17388956 0.17600191\n",
      " 0.17803787 0.18001504 0.18194702 0.18384543 0.18571804 0.18756863\n",
      " 0.18939798 0.19120485 0.1929879  0.19474524 0.19647613 0.19818014\n",
      " 0.19985762 0.20150961 0.20313726 0.20474197 0.20632498 0.20788766\n",
      " 0.20943086 0.21095531 0.21246159 0.21395016]\n",
      "27 day output [[0.2154212]]\n",
      "28 day input [0.17595428 0.19840784 0.19044703 0.18738518 0.19432537 0.19677485\n",
      " 0.20228618 0.19677485 0.20004082 0.1998367  0.20208206 0.21310472\n",
      " 0.21555419 0.20493978 0.2173913  0.21269647 0.21535007 0.19799959\n",
      " 0.18983466 0.17636252 0.17391304 0.16350276 0.16431925 0.17187181\n",
      " 0.17370892 0.1796285  0.17391304 0.1612574  0.16942233 0.178812\n",
      " 0.17207593 0.16901408 0.17187181 0.17513778 0.18309859 0.19024291\n",
      " 0.18595632 0.19003878 0.1735048  0.1673811  0.16921821 0.17023882\n",
      " 0.16227802 0.15064299 0.15207185 0.15105123 0.14696877 0.14594815\n",
      " 0.14553991 0.12390284 0.13206777 0.11226781 0.119208   0.12655644\n",
      " 0.13512962 0.12982241 0.13431313 0.12676056 0.1314554  0.12737293\n",
      " 0.13512962 0.14553991 0.15370484 0.15145948 0.14227393 0.14901\n",
      " 0.1516636  0.15431721 0.14737702 0.16064503 0.16227802 0.16370688\n",
      " 0.16625309 0.16920578 0.17166241 0.17388956 0.17600191 0.17803787\n",
      " 0.18001504 0.18194702 0.18384543 0.18571804 0.18756863 0.18939798\n",
      " 0.19120485 0.1929879  0.19474524 0.19647613 0.19818014 0.19985762\n",
      " 0.20150961 0.20313726 0.20474197 0.20632498 0.20788766 0.20943086\n",
      " 0.21095531 0.21246159 0.21395016 0.2154212 ]\n",
      "28 day output [[0.21687497]]\n",
      "29 day input [0.19840784 0.19044703 0.18738518 0.19432537 0.19677485 0.20228618\n",
      " 0.19677485 0.20004082 0.1998367  0.20208206 0.21310472 0.21555419\n",
      " 0.20493978 0.2173913  0.21269647 0.21535007 0.19799959 0.18983466\n",
      " 0.17636252 0.17391304 0.16350276 0.16431925 0.17187181 0.17370892\n",
      " 0.1796285  0.17391304 0.1612574  0.16942233 0.178812   0.17207593\n",
      " 0.16901408 0.17187181 0.17513778 0.18309859 0.19024291 0.18595632\n",
      " 0.19003878 0.1735048  0.1673811  0.16921821 0.17023882 0.16227802\n",
      " 0.15064299 0.15207185 0.15105123 0.14696877 0.14594815 0.14553991\n",
      " 0.12390284 0.13206777 0.11226781 0.119208   0.12655644 0.13512962\n",
      " 0.12982241 0.13431313 0.12676056 0.1314554  0.12737293 0.13512962\n",
      " 0.14553991 0.15370484 0.15145948 0.14227393 0.14901    0.1516636\n",
      " 0.15431721 0.14737702 0.16064503 0.16227802 0.16370688 0.16625309\n",
      " 0.16920578 0.17166241 0.17388956 0.17600191 0.17803787 0.18001504\n",
      " 0.18194702 0.18384543 0.18571804 0.18756863 0.18939798 0.19120485\n",
      " 0.1929879  0.19474524 0.19647613 0.19818014 0.19985762 0.20150961\n",
      " 0.20313726 0.20474197 0.20632498 0.20788766 0.20943086 0.21095531\n",
      " 0.21246159 0.21395016 0.2154212  0.21687497]\n",
      "29 day output [[0.21831162]]\n",
      "[[0.16625308990478516], [0.16920578479766846], [0.17166240513324738], [0.17388956248760223], [0.1760019063949585], [0.1780378669500351], [0.18001504242420197], [0.1819470226764679], [0.1838454306125641], [0.18571804463863373], [0.18756863474845886], [0.18939797580242157], [0.19120484590530396], [0.19298790395259857], [0.1947452425956726], [0.19647613167762756], [0.19818013906478882], [0.19985762238502502], [0.20150960981845856], [0.20313726365566254], [0.204741969704628], [0.2063249796628952], [0.207887664437294], [0.20943085849285126], [0.21095530688762665], [0.21246159076690674], [0.21395015716552734], [0.21542119979858398], [0.21687497198581696], [0.2183116227388382]]\n"
     ]
    }
   ],
   "source": [
    "# demonstrate prediction for next 30 days\n",
    "from numpy import array\n",
    "\n",
    "lst_output=[]\n",
    "n_steps=100\n",
    "i=0\n",
    "while(i<30):\n",
    "    \n",
    "    if(len(temp_input)>100):\n",
    "        #print(temp_input)\n",
    "        x_input=np.array(temp_input[1:])\n",
    "        print(\"{} day input {}\".format(i,x_input))\n",
    "        x_input=x_input.reshape(1,-1)\n",
    "        x_input = x_input.reshape((1, n_steps, 1))\n",
    "        #print(x_input)\n",
    "        yhat = model.predict(x_input, verbose=0)\n",
    "        print(\"{} day output {}\".format(i,yhat))\n",
    "        temp_input.extend(yhat[0].tolist())\n",
    "        temp_input=temp_input[1:]\n",
    "        #print(temp_input)\n",
    "        lst_output.extend(yhat.tolist())\n",
    "        i=i+1\n",
    "    else:\n",
    "        x_input = x_input.reshape((1, n_steps,1))\n",
    "        yhat = model.predict(x_input, verbose=0)\n",
    "        print(yhat[0])\n",
    "        temp_input.extend(yhat[0].tolist())\n",
    "        print(len(temp_input))\n",
    "        lst_output.extend(yhat.tolist())\n",
    "        i=i+1\n",
    "    \n",
    "\n",
    "print(lst_output)    "
   ]
  },
  {
   "cell_type": "code",
   "execution_count": 41,
   "metadata": {},
   "outputs": [],
   "source": [
    "day_new=np.arange(1,101)\n",
    "day_pred=np.arange(101,131)"
   ]
  },
  {
   "cell_type": "code",
   "execution_count": 42,
   "metadata": {},
   "outputs": [],
   "source": [
    "import matplotlib.pyplot as plt"
   ]
  },
  {
   "cell_type": "code",
   "execution_count": 43,
   "metadata": {},
   "outputs": [
    {
     "data": {
      "text/plain": [
       "2035"
      ]
     },
     "execution_count": 43,
     "metadata": {},
     "output_type": "execute_result"
    }
   ],
   "source": [
    "len(df1)"
   ]
  },
  {
   "cell_type": "code",
   "execution_count": 44,
   "metadata": {},
   "outputs": [
    {
     "data": {
      "text/plain": [
       "[<matplotlib.lines.Line2D at 0x1abb6dd1450>]"
      ]
     },
     "execution_count": 44,
     "metadata": {},
     "output_type": "execute_result"
    },
    {
     "data": {
      "image/png": "[encoded data removed]",
      "text/plain": [
       "<Figure size 432x288 with 1 Axes>"
      ]
     },
     "metadata": {
      "needs_background": "light"
     },
     "output_type": "display_data"
    }
   ],
   "source": [
    "plt.plot(day_new,scaler.inverse_transform(df1[1935:]))\n",
    "plt.plot(day_pred,scaler.inverse_transform(lst_output))"
   ]
  },
  {
   "cell_type": "code",
   "execution_count": 45,
   "metadata": {},
   "outputs": [
    {
     "data": {
      "text/plain": [
       "[<matplotlib.lines.Line2D at 0x1abb6e2cac0>]"
      ]
     },
     "execution_count": 45,
     "metadata": {},
     "output_type": "execute_result"
    },
    {
     "data": {
      "image/png": "[encoded data removed]",
      "text/plain": [
       "<Figure size 432x288 with 1 Axes>"
      ]
     },
     "metadata": {
      "needs_background": "light"
     },
     "output_type": "display_data"
    }
   ],
   "source": [
    "df3=df1.tolist()\n",
    "df3.extend(lst_output)\n",
    "plt.plot(df3[1200:])"
   ]
  },
  {
   "cell_type": "code",
   "execution_count": 46,
   "metadata": {},
   "outputs": [],
   "source": [
    "df3=scaler.inverse_transform(df3).tolist()"
   ]
  },
  {
   "cell_type": "code",
   "execution_count": 47,
   "metadata": {},
   "outputs": [
    {
     "data": {
      "text/plain": [
       "[<matplotlib.lines.Line2D at 0x1abb6ea8cd0>]"
      ]
     },
     "execution_count": 47,
     "metadata": {},
     "output_type": "execute_result"
    },
    {
     "data": {
      "image/png": "[encoded data removed]",
      "text/plain": [
       "<Figure size 432x288 with 1 Axes>"
      ]
     },
     "metadata": {
      "needs_background": "light"
     },
     "output_type": "display_data"
    }
   ],
   "source": [
    "plt.plot(df3)"
   ]
  }
 ],
 "metadata": {
  "interpreter": {
   "hash": "b89b5cfaba6639976dc87ff2fec6d58faec662063367e2c229c520fe71072417"
  },
  "kernelspec": {
   "display_name": "Python 3.10.2 64-bit",
   "language": "python",
   "name": "python3"
  },
  "language_info": {
   "codemirror_mode": {
    "name": "ipython",
    "version": 3
   },
   "file_extension": ".py",
   "mimetype": "text/x-python",
   "name": "python",
   "nbconvert_exporter": "python",
   "pygments_lexer": "ipython3",
   "version": "3.10.2"
  },
  "orig_nbformat": 4
 },
 "nbformat": 4,
 "nbformat_minor": 2
}
